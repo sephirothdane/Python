{
 "cells": [
  {
   "cell_type": "code",
   "execution_count": 1,
   "metadata": {},
   "outputs": [],
   "source": [
    "hash = '#'\n",
    "def generate_hashtag(s):\n",
    "    #iterate through the words.\n",
    "    for words in [s]:\n",
    "        #capitalizing the first letters in each word.\n",
    "        w = words.title()\n",
    "        #removing the spaces between words.\n",
    "        w = w.replace(\" \", \"\")\n",
    "        #Checking the length of words\n",
    "        if len(str(w)) > 140:\n",
    "            return False\n",
    "        elif len(str(w)) != 1:\n",
    "            return False\n",
    "        else:\n",
    "            return (f\"{hash}{w}\")\n",
    "        \n",
    "        \n",
    "#Test.describe(\"Basic tests\")\n",
    "#Test.assert_equals(generate_hashtag(''), False, 'Expected an empty string to return False')\n",
    "#Test.assert_equals(generate_hashtag('Do We have A Hashtag')[0], '#', 'Expeted a Hashtag (#) at the beginning.')\n",
    "#Test.assert_equals(generate_hashtag('Codewars'), '#Codewars', 'Should handle a single word.')\n",
    "#Test.assert_equals(generate_hashtag('Codewars      '), '#Codewars', 'Should handle trailing whitespace.')\n",
    "#Test.assert_equals(generate_hashtag('Codewars Is Nice'), '#CodewarsIsNice', 'Should remove spaces.')\n",
    "#Test.assert_equals(generate_hashtag('codewars is nice'), '#CodewarsIsNice', 'Should capitalize first letters of words.')\n",
    "#Test.assert_equals(generate_hashtag('CodeWars is nice'), '#CodewarsIsNice', 'Should capitalize all letters of words - all lower case but the first.')\n",
    "#Test.assert_equals(generate_hashtag('c i n'), '#CIN', 'Should capitalize first letters of words even when single letters.')\n",
    "#Test.assert_equals(generate_hashtag('codewars  is  nice'), '#CodewarsIsNice', 'Should deal with unnecessary middle spaces.')\n",
    "#Test.assert_equals(generate_hashtag('Looooooooooooooooooooooooooooooooooooooooooooooooooooooooooooooooooooooooooooooooooooooooooooooooooooooooooooooooooooooooooooooooooooooooooooooooooooooooooong Cat'), False, 'Should return False if the final word is longer than 140 chars.')"
   ]
  },
  {
   "cell_type": "code",
   "execution_count": null,
   "metadata": {},
   "outputs": [],
   "source": []
  }
 ],
 "metadata": {
  "kernelspec": {
   "display_name": "Python 3",
   "language": "python",
   "name": "python3"
  },
  "language_info": {
   "codemirror_mode": {
    "name": "ipython",
    "version": 3
   },
   "file_extension": ".py",
   "mimetype": "text/x-python",
   "name": "python",
   "nbconvert_exporter": "python",
   "pygments_lexer": "ipython3",
   "version": "3.7.4"
  }
 },
 "nbformat": 4,
 "nbformat_minor": 4
}
